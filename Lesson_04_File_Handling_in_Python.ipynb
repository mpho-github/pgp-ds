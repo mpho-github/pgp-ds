{
  "cells": [
    {
      "cell_type": "markdown",
      "metadata": {
        "id": "view-in-github",
        "colab_type": "text"
      },
      "source": [
        "<a href=\"https://colab.research.google.com/github/mpho-github/pgp-ds/blob/main/Lesson_04_File_Handling_in_Python.ipynb\" target=\"_parent\"><img src=\"https://colab.research.google.com/assets/colab-badge.svg\" alt=\"Open In Colab\"/></a>"
      ]
    },
    {
      "cell_type": "markdown",
      "metadata": {
        "id": "vWU6crMSQBfN"
      },
      "source": [
        "# __File Handling in Python__"
      ]
    },
    {
      "cell_type": "markdown",
      "metadata": {
        "id": "9msp-2jlQGOP"
      },
      "source": [
        "## __Reading a File:__\n",
        "- This opens example.txt in read mode ('r') and reads the entire content of the file into a string variable named content.\n"
      ]
    },
    {
      "cell_type": "code",
      "execution_count": null,
      "metadata": {
        "id": "yguNrVsibjVm"
      },
      "outputs": [],
      "source": [
        "file = open('example.txt', 'r')\n",
        "content = file.read()\n",
        "print(content)\n",
        "file.close"
      ]
    },
    {
      "cell_type": "markdown",
      "metadata": {
        "id": "ZvmLMDwAhx5n"
      },
      "source": [
        "This code deals with reading the contents of a file named \"example.txt\" in read mode ('r').\n",
        "\n",
        "1. `file = open('example.txt', 'r')`: This line opens the file named \"example.txt\" in read mode ('r') and assigns the file object to the variable `file`. By default, the file is opened in text mode, which means it reads and writes strings from and to the file.\n",
        "\n",
        "2. `content = file.read()`: This line reads the entire content of the file using the `read()` method of the file object (`file`). It reads the contents as a single string and assigns it to the variable `content`.\n",
        "\n",
        "3. `print(content)`: This line prints the content of the file that was read and stored in the variable `content`.\n",
        "\n",
        "4. `file.close`: This line attempts to close the file object using the `close()` method. However, there's a minor mistake in the code; it should be `file.close()` with parentheses to actually close the file. Without the parentheses, it refers to the `close` method object but doesn't call it.\n",
        "\n",
        "To correct the code, you should use:\n",
        "\n",
        "```python\n",
        "file.close()  # Correctly calls the close() method to close the file\n",
        "```\n",
        "\n",
        "After executing this corrected code snippet, the content of the \"example.txt\" file will be read and printed, and then the file will be closed.\n",
        "\n",
        "Note: It's a good practice to use a `with` statement when working with files in Python, as it automatically closes the file when the block of code inside the `with` statement is exited. Here's an example using a `with` statement:\n",
        "\n",
        "```python\n",
        "with open('example.txt', 'r') as file:\n",
        "    content = file.read()\n",
        "    print(content)\n",
        "# File is automatically closed when exiting the 'with' block\n",
        "```"
      ]
    },
    {
      "cell_type": "markdown",
      "metadata": {
        "id": "xS_ZxavFQZo9"
      },
      "source": [
        "## __Writing to a File:__\n",
        "- This opens example.txt in write mode ('w').\n",
        "- Anything written to the file will overwrite any existing content."
      ]
    },
    {
      "cell_type": "code",
      "execution_count": null,
      "metadata": {
        "id": "lKykdGy5zCRu"
      },
      "outputs": [],
      "source": [
        "file = open('example.txt', 'w')\n",
        "file.write(\"This will overwrite existing content or create a new file if it doesn't exist.\")\n",
        "print(file)\n",
        "file.close"
      ]
    },
    {
      "cell_type": "markdown",
      "metadata": {
        "id": "9LLLroHkhx5n"
      },
      "source": [
        "This code snippet deals with writing data to a file named \"example.txt\" in write mode ('w').\n",
        "\n",
        "1. `file = open('example.txt', 'w')`: This line opens the file named \"example.txt\" in write mode ('w') and assigns the file object to the variable `file`. When opened in write mode, if the file already exists, it will truncate the file (i.e., erase its contents) and start fresh. If the file doesn't exist, a new file with the specified name will be created.\n",
        "\n",
        "2. `file.write(\"This will overwrite existing content or create a new file if it doesn't exist.\")`: This line writes the specified string to the file using the `write()` method of the file object (`file`). The content provided in the double quotes will be written to the file.\n",
        "\n",
        "3. `print(file)`: This line attempts to print the file object `file`. However, printing a file object directly doesn't display its contents. It's more meaningful to print the contents that were written to the file instead of the file object itself.\n",
        "\n",
        "4. `file.close`: This line attempts to close the file object using the `close()` method. Similar to the previous code snippet, there's a mistake here. It should be `file.close()` with parentheses to actually close the file.\n",
        "\n",
        "To correct the code and print the written content, you can modify it like this:\n",
        "\n",
        "```python\n",
        "file = open('example.txt', 'w')\n",
        "file.write(\"This will overwrite existing content or create a new file if it doesn't exist.\")\n",
        "file.close()  # Correctly calls the close() method to close the file\n",
        "\n",
        "# Open the file again in read mode to print its contents\n",
        "with open('example.txt', 'r') as file:\n",
        "    content = file.read()\n",
        "    print(content)\n",
        "```\n",
        "\n",
        "After executing this corrected code snippet, the specified string will be written to the \"example.txt\" file, the file will be closed, and then the content of the file will be read and printed.\n",
        "\n",
        "The output provided seems to be the result of printing the `file` object and the `file.close` method object without calling them. Let's break down what each part of the output represents:\n",
        "\n",
        "1. `<_io.TextIOWrapper name='example.txt' mode='w' encoding='UTF-8'>`: This part of the output represents the `file` object, which is of type `_io.TextIOWrapper`. It provides information about the file object:\n",
        "   - `name='example.txt'`: Indicates that the file object is associated with a file named \"example.txt\".\n",
        "   - `mode='w'`: Indicates that the file was opened in write mode ('w').\n",
        "   - `encoding='UTF-8'`: Indicates the encoding used to interpret the file's contents, which is UTF-8 in this case.\n",
        "\n",
        "2. `<function TextIOWrapper.close()>`: This part of the output represents the `file.close` method object, which is of type `function`. It indicates that the `close` method belongs to the `TextIOWrapper` class and can be used to close the file object.\n",
        "\n",
        "However, it's important to note that both of these outputs are not very informative on their own. When working with files, it's more meaningful to perform actions on the file object, such as writing data to the file, reading from the file, or closing the file, rather than just printing the file object or its methods.\n",
        "\n"
      ]
    },
    {
      "cell_type": "markdown",
      "metadata": {
        "id": "KHHl-WHzQnTx"
      },
      "source": [
        "## __Appending to a File:__\n",
        "- This opens example.txt in append mode ('a').\n",
        "- The text provided in the file.write() is added to the end of the file's current content.\n",
        "- The file is then closed with file.close()."
      ]
    },
    {
      "cell_type": "code",
      "execution_count": null,
      "metadata": {
        "id": "KSqG6kwWzi8V"
      },
      "outputs": [],
      "source": [
        "file = open('example.txt', 'a')\n",
        "file.write(\"This will be appended to the end of the file.\")\n",
        "file.close()"
      ]
    },
    {
      "cell_type": "markdown",
      "metadata": {
        "id": "TafSxQbdhx5o"
      },
      "source": [
        "Let's break down the code step by step:\n",
        "\n",
        "1. `file = open('example.txt', 'a')`: This line opens the file named \"example.txt\" in append mode ('a') and assigns the file object to the variable `file`. In append mode, if the file exists, the data will be added to the end of the file without truncating it. If the file doesn't exist, a new file with the specified name will be created.\n",
        "\n",
        "2. `file.write(\"This will be appended to the end of the file.\")`: This line writes the specified string to the file using the `write()` method of the file object (`file`). The content provided in the double quotes will be appended to the end of the file.\n",
        "\n",
        "3. `file.close()`: This line calls the `close()` method on the file object to close the file. It's important to close files after you're done with them to release system resources and ensure data integrity.\n",
        "\n",
        "After executing this code snippet, the string \"This will be appended to the end of the file.\" will be added to the end of the \"example.txt\" file if it exists. If the file doesn't exist, a new file with that name will be created, and the string will be written to it.\n",
        "\n",
        "Here's a more concise way of writing the same functionality using a `with` statement, which automatically closes the file after the block of code is executed:\n",
        "\n",
        "```python\n",
        "with open('example.txt', 'a') as file:\n",
        "    file.write(\"This will be appended to the end of the file.\")\n",
        "```\n",
        "\n",
        "This approach ensures that the file is closed automatically after the content is appended, without the need for an explicit `file.close()` statement."
      ]
    },
    {
      "cell_type": "markdown",
      "metadata": {
        "id": "env55VcgQ3UT"
      },
      "source": [
        "## __Reading after Writing:__\n",
        "- After writing to the file in the previous step, this snippet reopens the file in read mode to print out the new content."
      ]
    },
    {
      "cell_type": "code",
      "execution_count": null,
      "metadata": {
        "id": "0WyS3N8zzv_F"
      },
      "outputs": [],
      "source": [
        "file = open('example.txt', 'r')\n",
        "content = file.read()\n",
        "print(content)\n",
        "file.close()"
      ]
    },
    {
      "cell_type": "markdown",
      "metadata": {
        "id": "pm8p6Nfmhx5p"
      },
      "source": [
        "This code reads the contents of a file named \"example.txt\" in read mode ('r') and prints its content.\n",
        "\n",
        "1. `file = open('example.txt', 'r')`: This line opens the file named \"example.txt\" in read mode ('r') and assigns the file object to the variable `file`. The file is opened in read mode, which allows reading from the file but does not allow writing or appending to it.\n",
        "\n",
        "2. `content = file.read()`: This line reads the entire content of the file using the `read()` method of the file object (`file`). It reads the content as a single string and assigns it to the variable `content`.\n",
        "\n",
        "3. `print(content)`: This line prints the content of the file that was read and stored in the variable `content`.\n",
        "\n",
        "4. `file.close()`: This line explicitly closes the file using the `close()` method of the file object. It's important to close files after reading or writing operations to release system resources and ensure data integrity.\n",
        "\n",
        "After executing this code snippet, the content of the \"example.txt\" file will be read and printed to the console, and then the file will be closed.\n",
        "\n",
        "Here's a more concise way of writing the same functionality using a `with` statement, which automatically closes the file after the block of code is executed:\n",
        "\n",
        "```python\n",
        "with open('example.txt', 'r') as file:\n",
        "    content = file.read()\n",
        "    print(content)\n",
        "```\n",
        "\n",
        "This approach ensures that the file is closed automatically after reading its contents, without the need for an explicit `file.close()` statement."
      ]
    },
    {
      "cell_type": "markdown",
      "metadata": {
        "id": "aUsVigQUREfx"
      },
      "source": [
        "## __Reading Line by Line:__\n",
        "- This reads the file line by line using file.readline().\n",
        "- The strip() function is used to remove the newline character from the end of each line before printing it."
      ]
    },
    {
      "cell_type": "code",
      "execution_count": null,
      "metadata": {
        "id": "otMtL2de0e9J"
      },
      "outputs": [],
      "source": [
        "file = open('example.txt', 'r')\n",
        "line = file.readline()\n",
        "while line:\n",
        "    print(line.strip())  # using strip() to remove the newline character at the end\n",
        "    line = file.readline()\n",
        "file.close()"
      ]
    },
    {
      "cell_type": "markdown",
      "metadata": {
        "id": "ZAHwLdkPhx5p"
      },
      "source": [
        "This code reads a text file line by line, prints each line, and then closes the file.\n",
        "\n",
        "1. `file = open('example.txt', 'r')`: This line opens the file named \"example.txt\" in read mode ('r') and assigns the file object to the variable `file`.\n",
        "\n",
        "2. `line = file.readline()`: This line reads the first line of the file using the `readline()` method of the file object (`file`) and assigns it to the variable `line`.\n",
        "\n",
        "3. `while line:`: This line starts a while loop that continues as long as the variable `line` is not empty (i.e., as long as there are lines left to read in the file).\n",
        "\n",
        "4. `print(line.strip())`: Inside the while loop, this line prints the current line to the console after removing any leading or trailing whitespace characters, including the newline character at the end of each line. The `strip()` method is used for this purpose.\n",
        "\n",
        "5. `line = file.readline()`: Inside the while loop, this line reads the next line of the file using the `readline()` method and updates the value of the variable `line` for the next iteration of the loop.\n",
        "\n",
        "6. `file.close()`: After the while loop ends (when there are no more lines left to read), this line explicitly closes the file using the `close()` method of the file object.\n",
        "\n",
        "After executing this code snippet, the content of the \"example.txt\" file will be read line by line, each line will be printed to the console without the newline character, and then the file will be closed.\n",
        "\n",
        "Here's a more concise way of achieving the same functionality using a `with` statement:\n",
        "\n",
        "```python\n",
        "with open('example.txt', 'r') as file:\n",
        "    for line in file:\n",
        "        print(line.strip())\n",
        "```\n",
        "\n",
        "This approach automatically closes the file after reading its contents line by line, without the need for an explicit `file.close()` statement. The `for line in file` loop reads each line of the file directly without the need for manual `readline()` calls."
      ]
    },
    {
      "cell_type": "markdown",
      "metadata": {
        "id": "yim3Dz4gRSgy"
      },
      "source": [
        "## __Reading All Lines into a List:__\n",
        "- This reads all lines of the file into a list called lines and prints the list.\n",
        "- Each element of the list corresponds to one line in the file."
      ]
    },
    {
      "cell_type": "code",
      "execution_count": null,
      "metadata": {
        "id": "d2Oq3rGC0lkf"
      },
      "outputs": [],
      "source": [
        "file = open('example.txt', 'r')\n",
        "lines = file.readlines()\n",
        "print(lines)  # prints all the lines as a list\n",
        "file.close()\n"
      ]
    },
    {
      "cell_type": "markdown",
      "metadata": {
        "id": "U1tdiwEzhx5p"
      },
      "source": [
        "This code reads all the lines from a text file named \"example.txt\" into a list and then prints the list of lines.\n",
        "\n",
        "1. `file = open('example.txt', 'r')`: This line opens the file named \"example.txt\" in read mode ('r') and assigns the file object to the variable `file`.\n",
        "\n",
        "2. `lines = file.readlines()`: This line reads all the lines from the file using the `readlines()` method of the file object (`file`) and stores them as a list of strings in the variable `lines`. Each string in the list corresponds to a line from the file, including the newline characters at the end of each line.\n",
        "\n",
        "3. `print(lines)`: This line prints the list of lines to the console. Each line in the file becomes an element in the list `lines`.\n",
        "\n",
        "4. `file.close()`: This line explicitly closes the file using the `close()` method of the file object.\n",
        "\n",
        "After executing this code snippet, the content of the \"example.txt\" file will be read line by line, and each line will be stored as an element in the list `lines`. Then, the entire list of lines will be printed to the console.\n",
        "\n",
        "Here's an example of what the output might look like:\n",
        "\n",
        "```\n",
        "['Line 1\\n', 'Line 2\\n', 'Line 3\\n']\n",
        "```\n",
        "\n",
        "Each element in the list corresponds to a line from the file, and the `\\n` represents the newline character at the end of each line."
      ]
    },
    {
      "cell_type": "markdown",
      "metadata": {
        "id": "3uDrEWrMRdXZ"
      },
      "source": [
        "## __Writing Strings and Closing the File:__\n",
        "- This opens the file in write mode and writes a single string to the file.\n",
        "- It writes each string in the list to the file, placing each on a separate line.\n",
        "- After closing the file in the previous step, this snippet reopens it in read mode to print out all the content that was written.\n",
        "- It's verifying what was written to the file by reading and printing it."
      ]
    },
    {
      "cell_type": "code",
      "execution_count": null,
      "metadata": {
        "id": "t6tqJu700-6-"
      },
      "outputs": [],
      "source": [
        "# Open the file in write mode\n",
        "file = open('example.txt', 'w')\n",
        "\n",
        "# Writing a string to the file\n",
        "file.write('Hi How Are You!\\n')\n",
        "\n",
        "# Writing a list of strings to the file\n",
        "lines = ['First line\\n', 'Second line\\n']\n",
        "file.writelines(lines)\n",
        "\n",
        "# Closing the file\n",
        "file.close()\n",
        "\n",
        "# Now, let's open the file again in read mode to print out its content\n",
        "file = open('example.txt', 'r')\n",
        "content = file.read()\n",
        "print(content)\n",
        "file.close()\n"
      ]
    },
    {
      "cell_type": "markdown",
      "metadata": {
        "id": "mRggt4hjhx5p"
      },
      "source": [
        "This code demonstrates how to write data to a file, then read its contents and print them.\n",
        "\n",
        "1. `file = open('example.txt', 'w')`: This line opens the file named \"example.txt\" in write mode ('w') and assigns the file object to the variable `file`.\n",
        "\n",
        "2. `file.write('Hi How Are You!\\n')`: This line writes the string `'Hi How Are You!\\n'` to the file using the `write()` method of the file object (`file`). The `\\n` character represents a newline, so this string will be followed by a new line in the file.\n",
        "\n",
        "3. `lines = ['First line\\n', 'Second line\\n']`: This line creates a list `lines` containing two strings, each ending with a newline character.\n",
        "\n",
        "4. `file.writelines(lines)`: This line writes the list of strings (`lines`) to the file using the `writelines()` method of the file object. Each string in the list will be written to the file as a separate line.\n",
        "\n",
        "5. `file.close()`: This line explicitly closes the file using the `close()` method of the file object.\n",
        "\n",
        "6. `file = open('example.txt', 'r')`: This line opens the file named \"example.txt\" again, this time in read mode ('r'), and assigns the file object to the variable `file`.\n",
        "\n",
        "7. `content = file.read()`: This line reads the entire content of the file using the `read()` method of the file object (`file`) and assigns it to the variable `content`.\n",
        "\n",
        "8. `print(content)`: This line prints the content of the file, which includes the string written directly (`'Hi How Are You!\\n'`) and the lines from the list (`'First line\\n'` and `'Second line\\n'`).\n",
        "\n",
        "9. `file.close()`: This line closes the file again after reading its contents.\n",
        "\n",
        "When you run this code snippet, the output printed to the console will be:\n",
        "\n",
        "```\n",
        "Hi How Are You!\n",
        "First line\n",
        "Second line\n",
        "```\n",
        "\n",
        "This output reflects the content of the \"example.txt\" file after the data has been written and then read back from the file. Each line in the file is printed on a new line in the console due to the newline characters (`\\n`)."
      ]
    }
  ],
  "metadata": {
    "colab": {
      "provenance": [],
      "include_colab_link": true
    },
    "kernelspec": {
      "display_name": "Python 3 (ipykernel)",
      "language": "python",
      "name": "python3"
    },
    "language_info": {
      "codemirror_mode": {
        "name": "ipython",
        "version": 3
      },
      "file_extension": ".py",
      "mimetype": "text/x-python",
      "name": "python",
      "nbconvert_exporter": "python",
      "pygments_lexer": "ipython3",
      "version": "3.9.12"
    }
  },
  "nbformat": 4,
  "nbformat_minor": 0
}