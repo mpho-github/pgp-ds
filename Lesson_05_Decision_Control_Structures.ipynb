{
  "cells": [
    {
      "cell_type": "markdown",
      "metadata": {
        "id": "view-in-github",
        "colab_type": "text"
      },
      "source": [
        "<a href=\"https://colab.research.google.com/github/mpho-github/pgp-ds/blob/main/Lesson_05_Decision_Control_Structures.ipynb\" target=\"_parent\"><img src=\"https://colab.research.google.com/assets/colab-badge.svg\" alt=\"Open In Colab\"/></a>"
      ]
    },
    {
      "cell_type": "markdown",
      "id": "6b47e9bd",
      "metadata": {
        "id": "6b47e9bd"
      },
      "source": [
        "## if statement"
      ]
    },
    {
      "cell_type": "code",
      "execution_count": null,
      "id": "2c4800cc",
      "metadata": {
        "id": "2c4800cc"
      },
      "outputs": [],
      "source": [
        "inp = input('Enter Nationality : ')"
      ]
    },
    {
      "cell_type": "markdown",
      "id": "8fff6ab4",
      "metadata": {
        "id": "8fff6ab4"
      },
      "source": [
        "This line of code prompts the user to enter input and assigns that input to the variable `inp`. Here's a breakdown of what happens:\n",
        "\n",
        "- `input('Enter Nationality : ')`: This part of the code is an input function, which is used to take input from the user. In this case, it displays the message `'Enter Nationality : '` as a prompt for the user to enter their nationality.\n",
        "  \n",
        "- `inp = ...`: This assigns whatever the user inputs (their nationality) to the variable `inp`, making it available for use in the rest of the program.\n",
        "\n",
        "When this code is executed, it will display `'Enter Nationality : '` in the console or user interface and wait for the user to input their nationality. Once the user enters their nationality and presses Enter, the input value will be stored in the variable `inp`, ready for further processing in the program."
      ]
    },
    {
      "cell_type": "code",
      "execution_count": null,
      "id": "4c187042",
      "metadata": {
        "id": "4c187042"
      },
      "outputs": [],
      "source": [
        "if inp == \"French\":\n",
        "    print('Préférez vous parler français ?') # if block\n",
        "print('Thank You!!')"
      ]
    },
    {
      "cell_type": "markdown",
      "id": "70ce1a45",
      "metadata": {
        "id": "70ce1a45"
      },
      "source": [
        "This code checks if the value stored in the variable `inp` is equal to the string `\"French\"`. If the condition is true (i.e., if `inp` is `\"French\"`), it will execute the indented block of code following the `if` statement. Here's a breakdown of what happens:\n",
        "\n",
        "- `if inp == \"French\":`: This line starts an `if` statement that checks if the value stored in the variable `inp` is equal to the string `\"French\"`. If this condition is true, the code inside the following indented block will be executed.\n",
        "  \n",
        "- `print('Préférez vous parler français ?')`: This line is inside the indented block of code following the `if` statement. If the condition `inp == \"French\"` is true, it will print the message `'Préférez vous parler français ?'`. This message asks if the user prefers to speak French.\n",
        "\n",
        "- `print('Thank You!!')`: This line is outside the `if` block (it's not indented), so it will always be executed, regardless of whether the condition in the `if` statement is true or false. It prints the message `'Thank You!!'`.\n",
        "\n",
        "When you run this code and enter `\"French\"` as the input for `inp`, it will print both messages:\n",
        "\n",
        "```\n",
        "Préférez vous parler français ?\n",
        "Thank You!!\n",
        "```\n",
        "\n",
        "If you enter any other input besides `\"French\"`, it will only print:\n",
        "\n",
        "```\n",
        "Thank You!!\n",
        "```\n",
        "\n",
        "This is because the `print('Préférez vous parler français ?')` statement is only executed when `inp` is equal to `\"French\"`, due to the conditional `if inp == \"French\":`. Otherwise, it skips that block of code and goes straight to printing `'Thank You!!'`."
      ]
    },
    {
      "cell_type": "code",
      "execution_count": null,
      "id": "1b9b5368",
      "metadata": {
        "id": "1b9b5368"
      },
      "outputs": [],
      "source": [
        "inp = input('Enter Nationality : ')\n",
        "if inp == \"French\":\n",
        "    print('Préférez vous parler français ?') # if block\n",
        "print('Thank You!!')"
      ]
    },
    {
      "cell_type": "markdown",
      "id": "69378e57",
      "metadata": {
        "id": "69378e57"
      },
      "source": [
        "This code snippet is similar to the previous one, but it adds the input prompt before checking if the input is `\"French\"`. Let's break it down:\n",
        "\n",
        "- `inp = input('Enter Nationality : ')`: This line prompts the user to enter their nationality by displaying the message `'Enter Nationality : '` and waits for the user's input. Whatever the user inputs will be stored in the variable `inp`.\n",
        "\n",
        "- `if inp == \"French\":`: This line starts an `if` statement that checks if the value stored in `inp` is equal to the string `\"French\"`. If the condition is true, the code inside the following indented block will be executed.\n",
        "\n",
        "- `print('Préférez vous parler français ?')`: This line is inside the indented block of code following the `if` statement. If the user inputs `\"French\"`, it will print the message `'Préférez vous parler français ?'`, which means \"Do you prefer to speak French?\".\n",
        "\n",
        "- `print('Thank You!!')`: This line is outside the `if` block (not indented), so it will always be executed, regardless of whether the condition in the `if` statement is true or false. It prints the message `'Thank You!!'`.\n",
        "\n",
        "Here's how the code execution flows:\n",
        "\n",
        "1. The user is prompted to enter their nationality with the message `'Enter Nationality : '`.\n",
        "2. Whatever the user inputs is stored in the variable `inp`.\n",
        "3. If the input stored in `inp` is `\"French\"`, it prints the message asking if the user prefers to speak French.\n",
        "4. Regardless of the input, it always prints the message `'Thank You!!'`.\n",
        "\n",
        "For example, if the user enters `\"French\"` as the input, the output might look like this:\n",
        "\n",
        "```\n",
        "Enter Nationality : French\n",
        "Préférez vous parler français ?\n",
        "Thank You!!\n",
        "```\n",
        "\n",
        "If the user enters anything other than `\"French\"`, only the \"Thank You!!\" message will be printed."
      ]
    },
    {
      "cell_type": "markdown",
      "id": "fe31c9e0",
      "metadata": {
        "id": "fe31c9e0"
      },
      "source": [
        "## if else"
      ]
    },
    {
      "cell_type": "code",
      "execution_count": null,
      "id": "2db77239",
      "metadata": {
        "id": "2db77239"
      },
      "outputs": [],
      "source": [
        "num = int(input('Enter a number : '))"
      ]
    },
    {
      "cell_type": "markdown",
      "id": "7f0cbe96",
      "metadata": {
        "id": "7f0cbe96"
      },
      "source": [
        "This line of code performs several actions:\n",
        "\n",
        "1. `input('Enter a number : ')`: This part of the code prompts the user to enter input by displaying the message `'Enter a number : '` in the console or user interface.\n",
        "\n",
        "2. `int(...)`: This part converts the user input (which is initially a string) into an integer using the `int()` function. It takes the string input from the user and converts it into an integer.\n",
        "\n",
        "3. `num = ...`: Finally, this part assigns the converted integer value to the variable `num`, making it available for further use in the program.\n",
        "\n",
        "When this code is executed, it displays `'Enter a number : '` in the console or user interface, waits for the user to input a number, converts that input into an integer, and then stores the integer value in the variable `num`.\n",
        "\n",
        "For example, if the user enters `\"42\"` as the input, the code will convert it into the integer `42` and assign it to the variable `num`. After this line of code executes, you can use the variable `num` as an integer in your program."
      ]
    },
    {
      "cell_type": "code",
      "execution_count": null,
      "id": "26216dd1",
      "metadata": {
        "id": "26216dd1"
      },
      "outputs": [],
      "source": [
        "if num > 0 :\n",
        "    print(num, ' is a positve number')\n",
        "else :\n",
        "    print(num, ' is a negative number')"
      ]
    },
    {
      "cell_type": "markdown",
      "id": "6550c64d",
      "metadata": {
        "id": "6550c64d"
      },
      "source": [
        "This code snippet checks whether the variable `num` is greater than zero or not. Let's break it down:\n",
        "\n",
        "- `if num > 0:`: This line starts an `if` statement that checks if the value stored in the variable `num` is greater than zero.\n",
        "\n",
        "  - If the condition `num > 0` is true, it executes the code inside the indented block immediately below it.\n",
        "  \n",
        "  - `print(num, ' is a positive number')`: This line is inside the indented block of the `if` statement. If `num` is greater than zero, it prints a message indicating that `num` is a positive number.\n",
        "\n",
        "- `else:`: This line starts the `else` block, which executes if the condition in the `if` statement (`num > 0`) is false.\n",
        "\n",
        "  - `print(num, ' is a negative number')`: This line is inside the indented block of the `else` statement. If `num` is not greater than zero (i.e., it's zero or negative), it prints a message indicating that `num` is a negative number.\n",
        "\n",
        "Here's how the code works:\n",
        "\n",
        "1. The user inputs a number using the `input()` function and `int()` conversion, which is stored in the variable `num`.\n",
        "\n",
        "2. If `num` is greater than zero, it prints a message saying that `num` is a positive number.\n",
        "\n",
        "3. If `num` is not greater than zero (i.e., it's zero or negative), it prints a message saying that `num` is a negative number.\n",
        "\n",
        "For example, if the user enters `5` as the input, the output might look like this:\n",
        "\n",
        "```\n",
        "Enter a number : 5\n",
        "5 is a positive number\n",
        "```\n",
        "\n",
        "If the user enters `-3` as the input, the output might look like this:\n",
        "\n",
        "```\n",
        "Enter a number : -3\n",
        "-3 is a negative number\n",
        "```"
      ]
    },
    {
      "cell_type": "markdown",
      "id": "23802bc4",
      "metadata": {
        "id": "23802bc4"
      },
      "source": [
        "## if elif"
      ]
    },
    {
      "cell_type": "code",
      "execution_count": null,
      "id": "ada6bce8",
      "metadata": {
        "id": "ada6bce8"
      },
      "outputs": [],
      "source": [
        "marks =  float(input('Please enter marks : '))\n",
        "if marks >=90 :\n",
        "    print('Grade A')\n",
        "elif marks >=75 :\n",
        "    print('Grade B')\n",
        "elif marks >= 55 :\n",
        "    print('Grade C')\n",
        "elif marks >= 35 :\n",
        "    print('Grade D')\n",
        "else :\n",
        "    print('Grade F')\n",
        "print('Thank you !!')"
      ]
    },
    {
      "cell_type": "markdown",
      "id": "66faaf92",
      "metadata": {
        "id": "66faaf92"
      },
      "source": [
        "Let's break down the code step by step:\n",
        "\n",
        "- `marks = float(input('Please enter marks : '))`: This line prompts the user to enter their marks as a floating-point number (e.g., 90.5) and converts the input into a floating-point number using `float()`. The entered marks are then stored in the variable `marks`.\n",
        "\n",
        "- `if marks >= 90:`: This line starts an `if` statement that checks if the value stored in `marks` is greater than or equal to 90.\n",
        "\n",
        "  - If `marks` is greater than or equal to 90, it prints `'Grade A'` indicating the highest grade.\n",
        "\n",
        "- `elif marks >= 75:`: This line is an `elif` (else if) statement, which checks if the value stored in `marks` is greater than or equal to 75.\n",
        "\n",
        "  - If `marks` is between 75 and 89, it prints `'Grade B'`.\n",
        "\n",
        "- `elif marks >= 55:`: This `elif` statement checks if the value stored in `marks` is greater than or equal to 55.\n",
        "\n",
        "  - If `marks` is between 55 and 74, it prints `'Grade C'`.\n",
        "\n",
        "- `elif marks >= 35:`: This `elif` statement checks if the value stored in `marks` is greater than or equal to 35.\n",
        "\n",
        "  - If `marks` is between 35 and 54, it prints `'Grade D'`.\n",
        "\n",
        "- `else:`: This line is the `else` block, which executes if none of the above conditions are met (i.e., `marks` is less than 35).\n",
        "\n",
        "  - If `marks` is below 35, it prints `'Grade F'` indicating failure.\n",
        "\n",
        "- `print('Thank you !!')`: This line is not part of the if-elif-else structure. It always executes after the if-elif-else block, printing `'Thank you !!'`.\n",
        "\n",
        "Here's how the code works in action:\n",
        "\n",
        "1. The user enters their marks as a floating-point number.\n",
        "\n",
        "2. The code checks the value of `marks` against the grade boundaries and prints the corresponding grade.\n",
        "\n",
        "3. It then prints `'Thank you !!'` to acknowledge the input.\n",
        "\n",
        "For example, if the user enters `85.5`, the output might look like this:\n",
        "\n",
        "```\n",
        "Please enter marks : 85.5\n",
        "Grade B\n",
        "Thank you !!\n",
        "```\n",
        "\n",
        "Or if the user enters `42`, the output might look like this:\n",
        "\n",
        "```\n",
        "Please enter marks : 42\n",
        "Grade D\n",
        "Thank you !!\n",
        "```"
      ]
    },
    {
      "cell_type": "markdown",
      "id": "c448e200",
      "metadata": {
        "id": "c448e200"
      },
      "source": [
        "## Nested if"
      ]
    },
    {
      "cell_type": "code",
      "execution_count": null,
      "id": "2093d854",
      "metadata": {
        "id": "2093d854"
      },
      "outputs": [],
      "source": [
        "a = int(input('Enter a number :'))\n",
        "b = int(input('Enter a number :'))\n",
        "c = int(input('Enter a number :'))"
      ]
    },
    {
      "cell_type": "markdown",
      "id": "bcf74f70",
      "metadata": {
        "id": "bcf74f70"
      },
      "source": [
        "This code snippet prompts the user to enter three integer numbers and stores them in variables `a`, `b`, and `c`. Here's a breakdown of each line:\n",
        "\n",
        "1. `a = int(input('Enter a number :'))`: This line prompts the user to enter a number and stores the input as a string. The `input()` function takes user input from the console or user interface. The `int()` function then converts this input string into an integer and assigns it to the variable `a`.\n",
        "\n",
        "2. `b = int(input('Enter a number :'))`: This line does the same as the first line but for the second number input. It prompts the user to enter another number, converts the input string into an integer, and assigns it to the variable `b`.\n",
        "\n",
        "3. `c = int(input('Enter a number :'))`: This line also follows the same pattern but for the third number input. It prompts the user to enter a third number, converts the input string into an integer, and assigns it to the variable `c`.\n",
        "\n",
        "After these three lines execute, the variables `a`, `b`, and `c` will hold the integer values entered by the user.\n",
        "\n",
        "For example, if the user enters `10`, `20`, and `30` respectively for the three inputs, the variables `a`, `b`, and `c` will have the values `10`, `20`, and `30` respectively."
      ]
    },
    {
      "cell_type": "code",
      "execution_count": null,
      "id": "ff8f5b11",
      "metadata": {
        "id": "ff8f5b11"
      },
      "outputs": [],
      "source": [
        "if (a > b):\n",
        "    if (a > c):\n",
        "        print('a (', a, ') is greatest')\n",
        "    else :\n",
        "        print('c (', c, ') is greatest')\n",
        "else :\n",
        "    if (b > c):\n",
        "        print('b (', b, ') is greatest')\n",
        "    else :\n",
        "        print('c (', c, ') is greatest')"
      ]
    },
    {
      "cell_type": "markdown",
      "id": "6c958b07",
      "metadata": {
        "id": "6c958b07"
      },
      "source": [
        "This code snippet compares three variables `a`, `b`, and `c` to determine which one is the greatest among them. Here's a breakdown of each part:\n",
        "\n",
        "1. `if (a > b):`: This line checks if `a` is greater than `b`. If this condition is true, it enters the first block of code under this `if` statement.\n",
        "\n",
        "   - `if (a > c):`: This nested `if` statement inside the first block checks if `a` is also greater than `c`. If true, it means `a` is greater than both `b` and `c`, so it prints that `a` is the greatest.\n",
        "\n",
        "   - `else:`: If the condition `(a > c)` is false, it means `c` is greater than or equal to `a`. In this case, it prints that `c` is the greatest among `a`, `b`, and `c`.\n",
        "\n",
        "2. `else:`: If the condition `(a > b)` is false, it means `b` is greater than or equal to `a`. It enters the `else` block.\n",
        "\n",
        "   - `if (b > c):`: This `if` statement inside the `else` block checks if `b` is greater than `c`. If true, it means `b` is the greatest among `a`, `b`, and `c`, so it prints that `b` is the greatest.\n",
        "\n",
        "   - `else:`: If the condition `(b > c)` is false, it means `c` is greater than or equal to `b`. In this case, it prints that `c` is the greatest among `a`, `b`, and `c`.\n",
        "\n",
        "This code effectively handles all possible combinations of values for `a`, `b`, and `c` and determines which one is the greatest among them. It uses nested `if-else` statements to make these comparisons and print the appropriate message based on the comparison results."
      ]
    },
    {
      "cell_type": "markdown",
      "id": "a19e0ed6",
      "metadata": {
        "id": "a19e0ed6"
      },
      "source": [
        "# Loops"
      ]
    },
    {
      "cell_type": "markdown",
      "id": "4e23a4cf",
      "metadata": {
        "id": "4e23a4cf"
      },
      "source": [
        "## for loop"
      ]
    },
    {
      "cell_type": "code",
      "execution_count": null,
      "id": "c68a5197",
      "metadata": {
        "id": "c68a5197"
      },
      "outputs": [],
      "source": [
        "string = 'Python'\n",
        "for s in string:\n",
        "    print(s)\n",
        "print('Thank You!!')"
      ]
    },
    {
      "cell_type": "markdown",
      "id": "beba4c62",
      "metadata": {
        "id": "beba4c62"
      },
      "source": [
        "This code iterates over each character in the string `'Python'` and prints each character individually. Here's how it works:\n",
        "\n",
        "1. `string = 'Python'`: This line initializes a string variable named `string` with the value `'Python'`.\n",
        "\n",
        "2. `for s in string:`: This line starts a `for` loop that iterates over each character in the string `string`. In each iteration, the current character is assigned to the variable `s`, and the code inside the loop is executed.\n",
        "\n",
        "3. `print(s)`: Inside the loop, this line prints the current character `s` to the console. Since the loop iterates over each character in `'Python'`, it will print each character one by one.\n",
        "\n",
        "4. `print('Thank You!!')`: This line is not part of the loop. It prints the message `'Thank You!!'` after the loop finishes executing.\n",
        "\n",
        "When you run this code, it will print each character of the string `'Python'` on a separate line, followed by the message `'Thank You!!'`. The output will look like this:\n",
        "\n",
        "```\n",
        "P\n",
        "y\n",
        "t\n",
        "h\n",
        "o\n",
        "n\n",
        "Thank You!!\n",
        "```\n",
        "\n",
        "Each character of the string is printed on a new line because of the `print(s)` statement inside the loop. After printing all characters, the `'Thank You!!'` message is printed once because it is outside the loop."
      ]
    },
    {
      "cell_type": "markdown",
      "id": "9f0f7a85",
      "metadata": {
        "id": "9f0f7a85"
      },
      "source": [
        "## while loop"
      ]
    },
    {
      "cell_type": "code",
      "execution_count": null,
      "id": "c72f5383",
      "metadata": {
        "id": "c72f5383"
      },
      "outputs": [],
      "source": [
        "counter = 0\n",
        "while counter < 5:\n",
        "    print(counter)\n",
        "    counter += 1\n",
        "print('Thank You!!')"
      ]
    },
    {
      "cell_type": "markdown",
      "id": "6bb4df8e",
      "metadata": {
        "id": "6bb4df8e"
      },
      "source": [
        "This code snippet uses a `while` loop to print numbers from 0 to 4 and then prints 'Thank You!!' afterward. Here's how it works:\n",
        "\n",
        "1. `counter = 0`: This line initializes a variable `counter` with the value 0.\n",
        "\n",
        "2. `while counter < 5:`: This line starts a `while` loop that continues to execute the code inside the loop as long as the condition `counter < 5` is true.\n",
        "\n",
        "   - `print(counter)`: Inside the loop, this line prints the current value of `counter` to the console.\n",
        "\n",
        "   - `counter += 1`: This line increments the value of `counter` by 1 in each iteration of the loop. It's shorthand for `counter = counter + 1`.\n",
        "\n",
        "3. After the loop finishes (when `counter` becomes 5), the code proceeds to the line outside the loop.\n",
        "\n",
        "4. `print('Thank You!!')`: This line prints the message `'Thank You!!'` after the loop finishes executing.\n",
        "\n",
        "When you run this code, it will print numbers from 0 to 4, each on a separate line, followed by the message 'Thank You!!'. The output will look like this:\n",
        "\n",
        "```\n",
        "0\n",
        "1\n",
        "2\n",
        "3\n",
        "4\n",
        "Thank You!!\n",
        "```\n",
        "\n",
        "The `while` loop starts with `counter = 0` and continues to execute until `counter` is no longer less than 5. In each iteration of the loop, `counter` is incremented by 1 (`counter += 1`). This pattern repeats until `counter` reaches 5, at which point the loop exits, and the program prints 'Thank You!!'."
      ]
    },
    {
      "cell_type": "markdown",
      "id": "51865383",
      "metadata": {
        "id": "51865383"
      },
      "source": [
        "##### while loop never executed"
      ]
    },
    {
      "cell_type": "code",
      "execution_count": null,
      "id": "cc065d08",
      "metadata": {
        "id": "cc065d08"
      },
      "outputs": [],
      "source": [
        "counter = 5\n",
        "while counter < 5:\n",
        "    print(counter)\n",
        "    counter += 1\n",
        "print('Thank you')"
      ]
    },
    {
      "cell_type": "markdown",
      "id": "de4e30e6",
      "metadata": {
        "id": "de4e30e6"
      },
      "source": [
        "In this code snippet, the `while` loop's condition is `counter < 5`, but `counter` is initially set to `5`. Since `5` is not less than `5`, the loop's condition is immediately false, and the loop's body is not executed at all. Here's how each line works:\n",
        "\n",
        "1. `counter = 5`: This line initializes the variable `counter` with the value `5`.\n",
        "\n",
        "2. `while counter < 5:`: This line starts a `while` loop. However, since `counter` is initially set to `5`, which is not less than `5`, the condition `counter < 5` is false from the beginning. As a result, the code inside the loop will not be executed at all.\n",
        "\n",
        "   - The loop's body contains:\n",
        "     - `print(counter)`: This line would print the value of `counter` if the loop's condition were true, but since the condition is false, this line is skipped.\n",
        "     - `counter += 1`: This line would increment `counter` by `1` if the loop's condition were true, but since the condition is false, this line is also skipped.\n",
        "\n",
        "3. `print('Thank you')`: This line is outside the loop. Since the loop didn't run at all (due to the false condition), this line is executed immediately after the loop declaration.\n",
        "\n",
        "When you run this code, it will print only `'Thank you'`, as the `while` loop is never entered due to the initial condition being false."
      ]
    },
    {
      "cell_type": "markdown",
      "id": "468d7b1b",
      "metadata": {
        "id": "468d7b1b"
      },
      "source": [
        "##### infinite while loop"
      ]
    },
    {
      "cell_type": "code",
      "execution_count": null,
      "id": "6a81766d",
      "metadata": {
        "jupyter": {
          "outputs_hidden": true
        },
        "tags": [],
        "id": "6a81766d"
      },
      "outputs": [],
      "source": [
        "counter = 0\n",
        "while counter < 5:\n",
        "    print(counter)\n",
        "print('Thank you')"
      ]
    },
    {
      "cell_type": "markdown",
      "id": "b8f660f8",
      "metadata": {
        "id": "b8f660f8"
      },
      "source": [
        "The code snippet as provided would result in an infinite loop. Let's analyze why:\n",
        "\n",
        "```python\n",
        "counter = 0\n",
        "while counter < 5:\n",
        "    print(counter)\n",
        "print('Thank you')\n",
        "```\n",
        "\n",
        "In this code, `counter` is initialized to `0`. The `while` loop checks if `counter` is less than `5` before each iteration. However, there is no code inside the loop that increments or modifies the value of `counter`. As a result, if `counter` starts at `0`, the condition `counter < 5` will always be true, leading to an infinite loop.\n",
        "\n",
        "To fix this and make it a finite loop, you would typically include an instruction inside the loop that increments or changes the value of `counter` so that the loop condition eventually becomes false. For example:\n",
        "\n",
        "```python\n",
        "counter = 0\n",
        "while counter < 5:\n",
        "    print(counter)\n",
        "    counter += 1  # Increment counter by 1 in each iteration\n",
        "print('Thank you')\n",
        "```\n",
        "\n",
        "In this corrected code, `counter` is incremented by `1` (`counter += 1`) inside the loop. This ensures that eventually, `counter` will reach `5`, causing the loop condition `counter < 5` to become false, and the loop will terminate after printing `0`, `1`, `2`, `3`, and `4`, followed by `'Thank you'`."
      ]
    },
    {
      "cell_type": "markdown",
      "id": "adc83423",
      "metadata": {
        "id": "adc83423"
      },
      "source": [
        "## Range function"
      ]
    },
    {
      "cell_type": "markdown",
      "id": "4c12b165",
      "metadata": {
        "id": "4c12b165"
      },
      "source": [
        "#### range(n)"
      ]
    },
    {
      "cell_type": "code",
      "execution_count": null,
      "id": "5721c3a3",
      "metadata": {
        "id": "5721c3a3"
      },
      "outputs": [],
      "source": [
        "obj = range(10)\n",
        "print(obj)"
      ]
    },
    {
      "cell_type": "markdown",
      "id": "a1664314",
      "metadata": {
        "id": "a1664314"
      },
      "source": [
        "This code creates a range object using the `range()` function with an argument of `10`. Here's what each part of the code does:\n",
        "\n",
        "1. `obj = range(10)`: This line creates a range object that represents a sequence of numbers from 0 to 9 (inclusive). The `range()` function in Python generates a sequence of numbers based on the arguments provided. In this case, `range(10)` generates numbers from 0 to 9 because the argument `10` specifies the stop value, but the start value defaults to 0 and the step value defaults to 1 if not explicitly provided.\n",
        "\n",
        "2. `print(obj)`: This line prints the range object `obj` to the console. When you print a range object, it displays the details of the range, including the start, stop, and step values. However, it doesn't show all the individual numbers in the range unless you iterate through it or convert it to a list or tuple.\n",
        "\n",
        "When you run this code, the output will be:\n",
        "\n",
        "```\n",
        "range(0, 10)\n",
        "```\n",
        "\n",
        "This output indicates that `obj` is a range object that starts at 0 and stops before 10, generating numbers from 0 to 9."
      ]
    },
    {
      "cell_type": "code",
      "execution_count": null,
      "id": "50722927",
      "metadata": {
        "id": "50722927"
      },
      "outputs": [],
      "source": [
        "print(list(obj))"
      ]
    },
    {
      "cell_type": "markdown",
      "id": "f221a42d",
      "metadata": {
        "id": "f221a42d"
      },
      "source": [
        "This code converts the range object `obj` into a list and then prints that list. Here's how it works:\n",
        "\n",
        "1. `obj = range(10)`: This line creates a range object `obj` that represents numbers from 0 to 9 (inclusive).\n",
        "\n",
        "2. `list(obj)`: This part of the code converts the range object `obj` into a list. When you call `list()` with a range object, it generates all the numbers in the range and creates a list containing those numbers.\n",
        "\n",
        "3. `print(list(obj))`: This line prints the list that was generated from the range object `obj`.\n",
        "\n",
        "When you run this code, it will produce the following output:\n",
        "\n",
        "```\n",
        "[0, 1, 2, 3, 4, 5, 6, 7, 8, 9]\n",
        "```\n",
        "\n",
        "This output shows the list of numbers `[0, 1, 2, 3, 4, 5, 6, 7, 8, 9]`, which are the numbers generated by the range object `obj`. The `list()` function converted the range object into this list format, allowing all the numbers in the range to be displayed in the output."
      ]
    },
    {
      "cell_type": "markdown",
      "id": "9e58837c",
      "metadata": {
        "id": "9e58837c"
      },
      "source": [
        "#### range(start, stop)"
      ]
    },
    {
      "cell_type": "code",
      "execution_count": null,
      "id": "ae6959ba",
      "metadata": {
        "id": "ae6959ba"
      },
      "outputs": [],
      "source": [
        "obj = range(5, 15)\n",
        "print(list(obj))"
      ]
    },
    {
      "cell_type": "markdown",
      "id": "694dce0d",
      "metadata": {
        "id": "694dce0d"
      },
      "source": [
        "This code creates a range object `obj` that represents a sequence of numbers starting from 5 and ending at 14 (inclusive of 5 but exclusive of 15), and then it converts and prints this range as a list. Here's a breakdown of each part:\n",
        "\n",
        "1. `obj = range(5, 15)`: This line creates a range object `obj` using the `range()` function with two arguments. The first argument `5` specifies the start of the range (inclusive), and the second argument `15` specifies the end of the range (exclusive). So, `obj` represents the numbers from 5 to 14.\n",
        "\n",
        "2. `list(obj)`: This part of the code converts the range object `obj` into a list. When you call `list()` with a range object, it generates all the numbers in the range and creates a list containing those numbers.\n",
        "\n",
        "3. `print(list(obj))`: This line prints the list that was generated from the range object `obj`.\n",
        "\n",
        "When you run this code, it will produce the following output:\n",
        "\n",
        "```\n",
        "[5, 6, 7, 8, 9, 10, 11, 12, 13, 14]\n",
        "```\n",
        "\n",
        "This output shows the list of numbers `[5, 6, 7, 8, 9, 10, 11, 12, 13, 14]`, which are the numbers generated by the range object `obj` starting from 5 (inclusive) up to, but not including, 15. The `list()` function converted the range object into this list format, allowing all the numbers in the specified range to be displayed in the output."
      ]
    },
    {
      "cell_type": "markdown",
      "id": "070aaef8",
      "metadata": {
        "id": "070aaef8"
      },
      "source": [
        "#### step in range"
      ]
    },
    {
      "cell_type": "code",
      "execution_count": null,
      "id": "51205a8a",
      "metadata": {
        "id": "51205a8a"
      },
      "outputs": [],
      "source": [
        "obj = range(2, 50, 2)\n",
        "print(list(obj))"
      ]
    },
    {
      "cell_type": "markdown",
      "id": "cc4b8c98",
      "metadata": {
        "id": "cc4b8c98"
      },
      "source": [
        "This code creates a range object `obj` that represents a sequence of even numbers from 2 to 48 (inclusive), with a step size of 2 between each number. Then, it converts and prints this range as a list. Here's a breakdown:\n",
        "\n",
        "1. `obj = range(2, 50, 2)`: This line creates a range object `obj` using the `range()` function with three arguments. The first argument `2` specifies the start of the range (inclusive), the second argument `50` specifies the end of the range (exclusive), and the third argument `2` specifies the step size. So, `obj` represents the even numbers from 2 to 48 (inclusive), with a step size of 2 between each number.\n",
        "\n",
        "2. `list(obj)`: This part of the code converts the range object `obj` into a list. When you call `list()` with a range object, it generates all the numbers in the range and creates a list containing those numbers.\n",
        "\n",
        "3. `print(list(obj))`: This line prints the list that was generated from the range object `obj`.\n",
        "\n",
        "When you run this code, it will produce the following output:\n",
        "\n",
        "```\n",
        "[2, 4, 6, 8, 10, 12, 14, 16, 18, 20, 22, 24, 26, 28, 30, 32, 34, 36, 38, 40, 42, 44, 46, 48]\n",
        "```\n",
        "\n",
        "This output shows the list of even numbers `[2, 4, 6, 8, ... , 48]`, which are the numbers generated by the range object `obj` starting from 2 (inclusive) and ending at 48 (exclusive), with a step size of 2 between each number. The `list()` function converted the range object into this list format, allowing all the numbers in the specified range to be displayed in the output."
      ]
    },
    {
      "cell_type": "markdown",
      "id": "0d1c3606",
      "metadata": {
        "id": "0d1c3606"
      },
      "source": [
        "## Nested Loops"
      ]
    },
    {
      "cell_type": "code",
      "execution_count": null,
      "id": "b2d679d2",
      "metadata": {
        "id": "b2d679d2"
      },
      "outputs": [],
      "source": [
        "# outer loop\n",
        "for j in range(2,11):\n",
        "    print('Table of :', j)\n",
        "    # inner loop\n",
        "    for i in range(1,11):\n",
        "        # print multiplication\n",
        "        print('{:2d} X {:2d} = {:2d}'.format(j,i, 2*i).center(20))\n",
        "    print('\\nEnd of multiplication table of ', j, '\\n')\n",
        "print('Thank You')"
      ]
    },
    {
      "cell_type": "markdown",
      "id": "b991eea7",
      "metadata": {
        "id": "b991eea7"
      },
      "source": [
        "1. `for j in range(2, 11):`: This line starts the outer loop, which iterates over numbers from 2 to 10 (inclusive). `j` takes on each value from 2 to 10 in each iteration of this loop.\n",
        "\n",
        "2. `print('Table of :', j)`: This line prints a header indicating the multiplication table for the current value of `j`.\n",
        "\n",
        "3. `for i in range(1, 11):`: This line starts the inner loop, which iterates over numbers from 1 to 10 (inclusive). `i` takes on each value from 1 to 10 in each iteration of this loop.\n",
        "\n",
        "4. `print('{:2d} X {:2d} = {:2d}'.format(j, i, 2*i).center(20))`: This line prints each multiplication expression formatted neatly within a width of 20 characters. It calculates `2*i` for the current value of `i` and formats the output to display the multiplication expression like \"2 X 1 = 2\", \"2 X 2 = 4\", and so on.\n",
        "\n",
        "5. `print('\\nEnd of multiplication table of ', j, '\\n')`: This line prints a newline to separate each multiplication table and indicates the end of the current multiplication table being printed.\n",
        "\n",
        "6. The outer loop continues until `j` reaches 10, printing multiplication tables for numbers from 2 to 10.\n",
        "\n",
        "7. Finally, `print('Thank You')` prints a message \"Thank You\" after all multiplication tables are printed.\n",
        "\n",
        "When you run this code, it will generate and print multiplication tables for numbers from 2 to 10. Each table will show the multiplication expressions and end with a message indicating the end of the table. The output will look like a neatly formatted set of multiplication tables for the specified range of numbers."
      ]
    },
    {
      "cell_type": "markdown",
      "id": "0b4d8b43",
      "metadata": {
        "tags": [],
        "id": "0b4d8b43"
      },
      "source": [
        "## Loop Control Statements"
      ]
    },
    {
      "cell_type": "code",
      "execution_count": null,
      "id": "3a9af019",
      "metadata": {
        "id": "3a9af019"
      },
      "outputs": [],
      "source": [
        "for s in 'Python':\n",
        "    if s == 'h':\n",
        "        break\n",
        "    print(s)\n",
        "print('End of Loop')"
      ]
    },
    {
      "cell_type": "markdown",
      "id": "0535f5a6",
      "metadata": {
        "id": "0535f5a6"
      },
      "source": [
        "Let's break down the code step by step:\n",
        "\n",
        "1. `for s in 'Python':`:\n",
        "   - This line initiates a loop that iterates over each character in the string 'Python'. In each iteration, the variable `s` takes on the value of the current character being iterated over.\n",
        "\n",
        "2. `if s == 'h':`:\n",
        "   - Within each iteration of the loop, this line checks if the current character `s` is equal to 'h'.\n",
        "\n",
        "3. `break`:\n",
        "   - If the condition `s == 'h'` is true (meaning 'h' is encountered in the string), the `break` statement is executed. This immediately exits the loop, skipping any remaining iterations.\n",
        "\n",
        "4. `print(s)`:\n",
        "   - This line is inside the loop but after the `if` statement. It prints the current character `s` only if the `if` condition is not met (i.e., if `s` is not 'h').\n",
        "\n",
        "5. `print('End of Loop')`:\n",
        "   - This line is outside the loop and is executed after the loop has completed all iterations or if the loop is exited early due to the `break` statement. It prints 'End of Loop' to indicate the end of the loop execution.\n",
        "\n",
        "When you run this code, it will output:\n",
        "\n",
        "```\n",
        "P\n",
        "y\n",
        "t\n",
        "End of Loop\n",
        "```\n",
        "\n",
        "Here's what happens:\n",
        "- The loop starts iterating over each character in 'Python'.\n",
        "- When 'h' is encountered (the third character in 'Python'), the `break` statement is executed, causing the loop to exit immediately without further iterations.\n",
        "- Therefore, 'End of Loop' is printed after the loop, and the characters 'P', 'y', and 't' are printed before the loop is exited."
      ]
    },
    {
      "cell_type": "code",
      "execution_count": null,
      "id": "c67a76fe",
      "metadata": {
        "id": "c67a76fe"
      },
      "outputs": [],
      "source": [
        "for s in 'Python':\n",
        "    if s == 'h':\n",
        "        continue\n",
        "    print(s)\n",
        "print('End of Loop')"
      ]
    },
    {
      "cell_type": "markdown",
      "id": "e178980e",
      "metadata": {
        "id": "e178980e"
      },
      "source": [
        "Let's break down this code step by step:\n",
        "\n",
        "1. `for s in 'Python':`:\n",
        "   - This line initiates a loop that iterates over each character in the string 'Python'. In each iteration, the variable `s` takes on the value of the current character being iterated over.\n",
        "\n",
        "2. `if s == 'h':`:\n",
        "   - Within each iteration of the loop, this line checks if the current character `s` is equal to 'h'.\n",
        "\n",
        "3. `continue`:\n",
        "   - If the condition `s == 'h'` is true (meaning 'h' is encountered in the string), the `continue` statement is executed. This skips the rest of the code inside the loop for the current iteration and moves on to the next iteration.\n",
        "\n",
        "4. `print(s)`:\n",
        "   - This line is inside the loop but after the `if` statement. It prints the current character `s` only if the `if` condition is not met (i.e., if `s` is not 'h').\n",
        "\n",
        "5. `print('End of Loop')`:\n",
        "   - This line is outside the loop and is executed after all iterations of the loop have completed. It prints 'End of Loop' to indicate the end of the loop execution.\n",
        "\n",
        "When you run this code, it will output:\n",
        "\n",
        "```\n",
        "P\n",
        "y\n",
        "t\n",
        "o\n",
        "n\n",
        "End of Loop\n",
        "```\n",
        "\n",
        "Here's what happens:\n",
        "- The loop starts iterating over each character in 'Python'.\n",
        "- When 'h' is encountered (the third character in 'Python'), the `continue` statement is executed, which skips the remaining code inside the loop for that iteration.\n",
        "- Therefore, 'End of Loop' is only printed once after all iterations are completed, and the characters 'P', 'y', 't', 'o', and 'n' are printed in separate lines before the loop is exited. 'h' is skipped due to the `continue` statement."
      ]
    },
    {
      "cell_type": "markdown",
      "id": "97ffe681",
      "metadata": {
        "id": "97ffe681"
      },
      "source": [
        "## Loop Else Statements"
      ]
    },
    {
      "cell_type": "code",
      "execution_count": null,
      "id": "9f41cd5d",
      "metadata": {
        "id": "9f41cd5d"
      },
      "outputs": [],
      "source": [
        "for i in range(5):\n",
        "    food = input('Enter edible item :')\n",
        "    if food == 'spam':\n",
        "        print('No more spam please !!')\n",
        "        break\n",
        "    print('Great Delicious ')\n",
        "else :\n",
        "    print('I am so glad !! No Spam')\n",
        "print('Finally finshed stuffing myself!!')"
      ]
    },
    {
      "cell_type": "markdown",
      "id": "529da1a1",
      "metadata": {
        "id": "529da1a1"
      },
      "source": [
        "Let's go through this code step by step:\n",
        "\n",
        "1. `for i in range(5):`:\n",
        "   - This line starts a loop that iterates 5 times, with `i` taking values from 0 to 4.\n",
        "\n",
        "2. `food = input('Enter edible item :')`:\n",
        "   - In each iteration of the loop, the user is prompted to enter an edible item, and the input is stored in the variable `food`.\n",
        "\n",
        "3. `if food == 'spam':`:\n",
        "   - This line checks if the input entered by the user (`food`) is equal to 'spam'.\n",
        "\n",
        "4. `print('No more spam please !!')`:\n",
        "   - If the input is 'spam', this line is executed, and the program prints 'No more spam please !!'.\n",
        "\n",
        "5. `break`:\n",
        "   - If 'spam' is entered, the `break` statement is executed, which immediately exits the loop, skipping any remaining iterations.\n",
        "\n",
        "6. `print('Great Delicious ')`:\n",
        "   - If the input is not 'spam' (i.e., it's a delicious item), this line is executed, and the program prints 'Great Delicious'.\n",
        "\n",
        "7. `else :`:\n",
        "   - This line is part of Python's `for-else` construct. It runs if the loop completes all iterations without encountering a `break` statement. In this case, it means no 'spam' was entered in the loop.\n",
        "\n",
        "8. `print('I am so glad !! No Spam')`:\n",
        "   - This line is inside the `else` block. It prints 'I am so glad !! No Spam' to indicate that no 'spam' was entered during the loop.\n",
        "\n",
        "9. `print('Finally finished stuffing myself!!')`:\n",
        "   - This line is outside both the loop and the `else` block. It is always executed after the loop finishes, regardless of whether 'spam' was entered or not.\n",
        "\n",
        "When you run this code:\n",
        "- If you enter 'spam' during any of the five iterations, the loop will immediately print 'No more spam please !!' and exit.\n",
        "- If 'spam' is not entered during any iteration, the loop will print 'Great Delicious' for each non-'spam' item entered. After the loop, it will print 'I am so glad !! No Spam' to indicate that no 'spam' was entered. Finally, it will print 'Finally finished stuffing myself!!' to indicate the end of the code execution."
      ]
    },
    {
      "cell_type": "code",
      "execution_count": null,
      "id": "71a352d9",
      "metadata": {
        "id": "71a352d9"
      },
      "outputs": [],
      "source": [
        "for i in range(5):\n",
        "    food = input('Enter edible item :')\n",
        "    if food == 'spam':\n",
        "        print('No more spam please !!')\n",
        "        break\n",
        "    print('Great Delicious ')\n",
        "else :\n",
        "    print('I am so glad !! No Spam')\n",
        "print('Finally finshed stuffing myself!!')"
      ]
    },
    {
      "cell_type": "markdown",
      "id": "e5facbfd",
      "metadata": {
        "id": "e5facbfd"
      },
      "source": [
        "Let's break down the code step by step:\n",
        "\n",
        "1. `for i in range(5):`:\n",
        "   - This line starts a loop that iterates 5 times, with `i` taking values from 0 to 4.\n",
        "\n",
        "2. `food = input('Enter edible item :')`:\n",
        "   - In each iteration of the loop, the user is prompted to enter an edible item, and the input is stored in the variable `food`.\n",
        "\n",
        "3. `if food == 'spam':`:\n",
        "   - This line checks if the input entered by the user (`food`) is equal to 'spam'.\n",
        "\n",
        "4. `print('No more spam please !!')`:\n",
        "   - If the input is 'spam', this line is executed, and the program prints 'No more spam please !!'.\n",
        "\n",
        "5. `break`:\n",
        "   - If 'spam' is entered, the `break` statement is executed, which immediately exits the loop, skipping any remaining iterations.\n",
        "\n",
        "6. `print('Great Delicious ')`:\n",
        "   - If the input is not 'spam' (i.e., it's a delicious item), this line is executed, and the program prints 'Great Delicious'.\n",
        "\n",
        "7. `else :`:\n",
        "   - This line is part of Python's `for-else` construct. It runs if the loop completes all iterations without encountering a `break` statement. In this case, it means no 'spam' was entered in the loop.\n",
        "\n",
        "8. `print('I am so glad !! No Spam')`:\n",
        "   - This line is inside the `else` block. It prints 'I am so glad !! No Spam' to indicate that no 'spam' was entered during the loop.\n",
        "\n",
        "9. `print('Finally finished stuffing myself!!')`:\n",
        "   - This line is outside both the loop and the `else` block. It is always executed after the loop finishes, regardless of whether 'spam' was entered or not.\n",
        "\n",
        "When you run this code:\n",
        "- If you enter 'spam' during any of the five iterations, the loop will immediately print 'No more spam please !!' and exit.\n",
        "- If 'spam' is not entered during any iteration, the loop will print 'Great Delicious' for each non-'spam' item entered. After the loop, it will print 'I am so glad !! No Spam' to indicate that no 'spam' was entered. Finally, it will print 'Finally finished stuffing myself!!' to indicate the end of the code execution.\n",
        "\n",
        "Overall, the code simulates a scenario where the user is inputting edible items, and if 'spam' is encountered, the program politely requests no more 'spam' and exits. Otherwise, it prints messages indicating the delicious items and ends with a final message."
      ]
    }
  ],
  "metadata": {
    "kernelspec": {
      "display_name": "Python 3 (ipykernel)",
      "language": "python",
      "name": "python3"
    },
    "language_info": {
      "codemirror_mode": {
        "name": "ipython",
        "version": 3
      },
      "file_extension": ".py",
      "mimetype": "text/x-python",
      "name": "python",
      "nbconvert_exporter": "python",
      "pygments_lexer": "ipython3",
      "version": "3.9.12"
    },
    "colab": {
      "provenance": [],
      "include_colab_link": true
    }
  },
  "nbformat": 4,
  "nbformat_minor": 5
}